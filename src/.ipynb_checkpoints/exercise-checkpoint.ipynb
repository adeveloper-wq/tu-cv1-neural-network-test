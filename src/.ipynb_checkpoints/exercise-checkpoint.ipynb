{
 "cells": [
  {
   "cell_type": "code",
   "execution_count": 1,
   "id": "c2d34d6f",
   "metadata": {},
   "outputs": [
    {
     "name": "stdout",
     "output_type": "stream",
     "text": [
      "Requirement already satisfied: keras in c:\\users\\daniel\\anaconda3\\lib\\site-packages (2.7.0)\n",
      "Note: you may need to restart the kernel to use updated packages.\n"
     ]
    }
   ],
   "source": [
    "pip install keras"
   ]
  },
  {
   "cell_type": "code",
   "execution_count": 1,
   "id": "87b70d2b",
   "metadata": {},
   "outputs": [
    {
     "name": "stdout",
     "output_type": "stream",
     "text": [
      "Requirement already satisfied: tensorflow in c:\\users\\daniel\\anaconda3\\lib\\site-packages (2.7.0)\n",
      "Requirement already satisfied: tensorflow-io-gcs-filesystem>=0.21.0 in c:\\users\\daniel\\anaconda3\\lib\\site-packages (from tensorflow) (0.22.0)\n",
      "Requirement already satisfied: keras-preprocessing>=1.1.1 in c:\\users\\daniel\\anaconda3\\lib\\site-packages (from tensorflow) (1.1.2)\n",
      "Requirement already satisfied: absl-py>=0.4.0 in c:\\users\\daniel\\anaconda3\\lib\\site-packages (from tensorflow) (1.0.0)\n",
      "Requirement already satisfied: google-pasta>=0.1.1 in c:\\users\\daniel\\anaconda3\\lib\\site-packages (from tensorflow) (0.2.0)\n",
      "Requirement already satisfied: gast<0.5.0,>=0.2.1 in c:\\users\\daniel\\anaconda3\\lib\\site-packages (from tensorflow) (0.4.0)\n",
      "Requirement already satisfied: opt-einsum>=2.3.2 in c:\\users\\daniel\\anaconda3\\lib\\site-packages (from tensorflow) (3.3.0)\n",
      "Requirement already satisfied: flatbuffers<3.0,>=1.12 in c:\\users\\daniel\\anaconda3\\lib\\site-packages (from tensorflow) (2.0)\n",
      "Requirement already satisfied: termcolor>=1.1.0 in c:\\users\\daniel\\anaconda3\\lib\\site-packages (from tensorflow) (1.1.0)\n",
      "Requirement already satisfied: wrapt>=1.11.0 in c:\\users\\daniel\\anaconda3\\lib\\site-packages (from tensorflow) (1.12.1)\n",
      "Note: you may need to restart the kernel to use updated packages.\n",
      "Requirement already satisfied: astunparse>=1.6.0 in c:\\users\\daniel\\anaconda3\\lib\\site-packages (from tensorflow) (1.6.3)\n",
      "Requirement already satisfied: keras<2.8,>=2.7.0rc0 in c:\\users\\daniel\\anaconda3\\lib\\site-packages (from tensorflow) (2.7.0)\n",
      "Requirement already satisfied: grpcio<2.0,>=1.24.3 in c:\\users\\daniel\\anaconda3\\lib\\site-packages (from tensorflow) (1.42.0)\n",
      "Requirement already satisfied: tensorboard~=2.6 in c:\\users\\daniel\\anaconda3\\lib\\site-packages (from tensorflow) (2.7.0)\n",
      "Requirement already satisfied: six>=1.12.0 in c:\\users\\daniel\\anaconda3\\lib\\site-packages (from tensorflow) (1.15.0)\n",
      "Requirement already satisfied: wheel<1.0,>=0.32.0 in c:\\users\\daniel\\anaconda3\\lib\\site-packages (from tensorflow) (0.36.2)\n",
      "Requirement already satisfied: typing-extensions>=3.6.6 in c:\\users\\daniel\\anaconda3\\lib\\site-packages (from tensorflow) (3.7.4.3)\n",
      "Requirement already satisfied: tensorflow-estimator<2.8,~=2.7.0rc0 in c:\\users\\daniel\\anaconda3\\lib\\site-packages (from tensorflow) (2.7.0)\n",
      "Requirement already satisfied: protobuf>=3.9.2 in c:\\users\\daniel\\anaconda3\\lib\\site-packages (from tensorflow) (3.19.1)\n",
      "Requirement already satisfied: h5py>=2.9.0 in c:\\users\\daniel\\anaconda3\\lib\\site-packages (from tensorflow) (2.10.0)\n",
      "Requirement already satisfied: libclang>=9.0.1 in c:\\users\\daniel\\anaconda3\\lib\\site-packages (from tensorflow) (12.0.0)\n",
      "Requirement already satisfied: numpy>=1.14.5 in c:\\users\\daniel\\anaconda3\\lib\\site-packages (from tensorflow) (1.20.1)\n",
      "Requirement already satisfied: tensorboard-data-server<0.7.0,>=0.6.0 in c:\\users\\daniel\\anaconda3\\lib\\site-packages (from tensorboard~=2.6->tensorflow) (0.6.1)\n",
      "Requirement already satisfied: requests<3,>=2.21.0 in c:\\users\\daniel\\anaconda3\\lib\\site-packages (from tensorboard~=2.6->tensorflow) (2.25.1)\n",
      "Requirement already satisfied: google-auth<3,>=1.6.3 in c:\\users\\daniel\\anaconda3\\lib\\site-packages (from tensorboard~=2.6->tensorflow) (2.3.3)\n",
      "Requirement already satisfied: setuptools>=41.0.0 in c:\\users\\daniel\\anaconda3\\lib\\site-packages (from tensorboard~=2.6->tensorflow) (52.0.0.post20210125)\n",
      "Requirement already satisfied: google-auth-oauthlib<0.5,>=0.4.1 in c:\\users\\daniel\\anaconda3\\lib\\site-packages (from tensorboard~=2.6->tensorflow) (0.4.6)\n",
      "Requirement already satisfied: tensorboard-plugin-wit>=1.6.0 in c:\\users\\daniel\\anaconda3\\lib\\site-packages (from tensorboard~=2.6->tensorflow) (1.8.0)\n",
      "Requirement already satisfied: werkzeug>=0.11.15 in c:\\users\\daniel\\anaconda3\\lib\\site-packages (from tensorboard~=2.6->tensorflow) (1.0.1)\n",
      "Requirement already satisfied: markdown>=2.6.8 in c:\\users\\daniel\\anaconda3\\lib\\site-packages (from tensorboard~=2.6->tensorflow) (3.3.6)\n",
      "Requirement already satisfied: cachetools<5.0,>=2.0.0 in c:\\users\\daniel\\anaconda3\\lib\\site-packages (from google-auth<3,>=1.6.3->tensorboard~=2.6->tensorflow) (4.2.4)\n",
      "Requirement already satisfied: rsa<5,>=3.1.4 in c:\\users\\daniel\\anaconda3\\lib\\site-packages (from google-auth<3,>=1.6.3->tensorboard~=2.6->tensorflow) (4.8)\n",
      "Requirement already satisfied: pyasn1-modules>=0.2.1 in c:\\users\\daniel\\anaconda3\\lib\\site-packages (from google-auth<3,>=1.6.3->tensorboard~=2.6->tensorflow) (0.2.8)\n",
      "Requirement already satisfied: requests-oauthlib>=0.7.0 in c:\\users\\daniel\\anaconda3\\lib\\site-packages (from google-auth-oauthlib<0.5,>=0.4.1->tensorboard~=2.6->tensorflow) (1.3.0)\n",
      "Requirement already satisfied: importlib-metadata>=4.4 in c:\\users\\daniel\\anaconda3\\lib\\site-packages (from markdown>=2.6.8->tensorboard~=2.6->tensorflow) (4.8.2)\n",
      "Requirement already satisfied: zipp>=0.5 in c:\\users\\daniel\\anaconda3\\lib\\site-packages (from importlib-metadata>=4.4->markdown>=2.6.8->tensorboard~=2.6->tensorflow) (3.4.1)\n",
      "Requirement already satisfied: pyasn1<0.5.0,>=0.4.6 in c:\\users\\daniel\\anaconda3\\lib\\site-packages (from pyasn1-modules>=0.2.1->google-auth<3,>=1.6.3->tensorboard~=2.6->tensorflow) (0.4.8)\n",
      "Requirement already satisfied: urllib3<1.27,>=1.21.1 in c:\\users\\daniel\\anaconda3\\lib\\site-packages (from requests<3,>=2.21.0->tensorboard~=2.6->tensorflow) (1.26.4)\n",
      "Requirement already satisfied: certifi>=2017.4.17 in c:\\users\\daniel\\anaconda3\\lib\\site-packages (from requests<3,>=2.21.0->tensorboard~=2.6->tensorflow) (2020.12.5)\n",
      "Requirement already satisfied: chardet<5,>=3.0.2 in c:\\users\\daniel\\anaconda3\\lib\\site-packages (from requests<3,>=2.21.0->tensorboard~=2.6->tensorflow) (4.0.0)\n",
      "Requirement already satisfied: idna<3,>=2.5 in c:\\users\\daniel\\anaconda3\\lib\\site-packages (from requests<3,>=2.21.0->tensorboard~=2.6->tensorflow) (2.10)\n",
      "Requirement already satisfied: oauthlib>=3.0.0 in c:\\users\\daniel\\anaconda3\\lib\\site-packages (from requests-oauthlib>=0.7.0->google-auth-oauthlib<0.5,>=0.4.1->tensorboard~=2.6->tensorflow) (3.1.1)\n"
     ]
    }
   ],
   "source": [
    "pip install tensorflow"
   ]
  },
  {
   "cell_type": "code",
   "execution_count": 2,
   "id": "8a05902f",
   "metadata": {},
   "outputs": [],
   "source": [
    "import numpy as np\n",
    "import keras\n",
    "from keras.models import Sequential\n",
    "from keras.layers import Dense\n",
    "import matplotlib.pyplot as plt"
   ]
  },
  {
   "cell_type": "code",
   "execution_count": 3,
   "id": "8871b40a",
   "metadata": {},
   "outputs": [],
   "source": [
    "batch_size = 100\n",
    "num_classes = 2\n",
    "epochs = 1000"
   ]
  },
  {
   "cell_type": "code",
   "execution_count": 4,
   "id": "9ea244aa",
   "metadata": {},
   "outputs": [
    {
     "data": {
      "text/plain": [
       "array([[ 1.24822988,  1.17558926,  1.        ],\n",
       "       [ 3.94969529,  3.86616438, -1.        ],\n",
       "       [ 2.10952868,  2.0931219 ,  1.        ],\n",
       "       [ 2.06610425,  2.5605405 , -1.        ],\n",
       "       [ 4.25217339,  3.69810939, -1.        ],\n",
       "       [ 2.52023855,  1.20366833,  1.        ],\n",
       "       [ 1.90113709,  1.0451502 ,  1.        ],\n",
       "       [ 1.10488782,  0.87907679,  1.        ],\n",
       "       [ 3.77429055,  2.44544113, -1.        ],\n",
       "       [ 2.46059105,  0.93488713,  1.        ],\n",
       "       [ 0.44382666,  2.24505144,  1.        ],\n",
       "       [ 1.92075136,  1.59524579,  1.        ],\n",
       "       [-0.66834813,  2.31833982,  1.        ],\n",
       "       [ 0.27768176,  0.00712491,  1.        ],\n",
       "       [ 0.79718746,  1.87204283,  1.        ],\n",
       "       [ 1.51474144,  4.03397433, -1.        ],\n",
       "       [ 4.11906238,  2.80756053, -1.        ],\n",
       "       [-1.25666813,  1.49218372,  1.        ],\n",
       "       [ 2.07096093,  2.45660641, -1.        ],\n",
       "       [ 2.53668959, -0.19077101,  1.        ],\n",
       "       [ 3.52632348,  0.91705277,  1.        ],\n",
       "       [ 2.30363071, -0.02991144,  1.        ],\n",
       "       [ 3.30743045,  1.80662397, -1.        ],\n",
       "       [ 4.34288774,  3.92233983, -1.        ],\n",
       "       [ 2.11647326,  2.35197107, -1.        ],\n",
       "       [ 1.14144717,  1.79528943,  1.        ],\n",
       "       [ 2.8488289 ,  2.18302286, -1.        ],\n",
       "       [ 1.83692207,  1.12303535,  1.        ],\n",
       "       [ 2.21467179,  0.91817865,  1.        ],\n",
       "       [ 1.23501319,  2.02117132,  1.        ],\n",
       "       [ 2.88003738,  1.67348088, -1.        ],\n",
       "       [ 1.53939197,  2.99076532, -1.        ],\n",
       "       [ 4.35402909,  3.34310024, -1.        ],\n",
       "       [ 0.39183697,  1.53655109,  1.        ],\n",
       "       [ 0.95053821,  1.03290506,  1.        ],\n",
       "       [ 3.90171091,  3.05724434, -1.        ],\n",
       "       [ 2.45895174,  2.14748717, -1.        ],\n",
       "       [ 1.42672063,  2.9335252 , -1.        ],\n",
       "       [ 1.80329282,  1.52838769,  1.        ],\n",
       "       [ 0.75111939,  0.24431902,  1.        ],\n",
       "       [ 1.24546257,  2.69164778,  1.        ],\n",
       "       [ 0.0827868 , -0.20684365,  1.        ],\n",
       "       [ 1.85151218,  2.27815077,  1.        ],\n",
       "       [ 2.53674225,  1.02766864,  1.        ],\n",
       "       [ 0.53312673,  0.32556732,  1.        ],\n",
       "       [ 1.95884093,  1.39662675,  1.        ],\n",
       "       [ 0.85125563,  0.98403447,  1.        ],\n",
       "       [ 2.75830454,  2.82512723, -1.        ],\n",
       "       [ 3.21941572,  2.32665477, -1.        ],\n",
       "       [ 2.68600984,  1.58917456,  1.        ],\n",
       "       [ 2.45518983,  2.3614168 , -1.        ],\n",
       "       [ 1.9266063 ,  2.20077211,  1.        ],\n",
       "       [-0.14060196,  0.1772872 ,  1.        ],\n",
       "       [ 1.74335008,  0.9646649 ,  1.        ],\n",
       "       [ 1.60275259,  1.40430151,  1.        ],\n",
       "       [ 2.09308719,  4.32018246, -1.        ],\n",
       "       [ 2.80059795,  3.81815135, -1.        ],\n",
       "       [ 4.1264653 ,  3.38158602, -1.        ],\n",
       "       [ 0.03632031,  2.47757979,  1.        ],\n",
       "       [ 2.65350481,  1.00492703,  1.        ],\n",
       "       [ 2.81527165,  4.26068842, -1.        ],\n",
       "       [ 2.2668467 ,  0.39754727,  1.        ],\n",
       "       [-1.40334676, -0.24593053,  1.        ],\n",
       "       [ 1.44192321,  2.38432137,  1.        ],\n",
       "       [ 0.99023119,  3.81655057, -1.        ],\n",
       "       [ 0.91891084,  2.99768739,  1.        ],\n",
       "       [ 3.15087517,  4.54131757, -1.        ],\n",
       "       [ 0.22152276,  0.47459371,  1.        ],\n",
       "       [ 1.90283044,  3.83656239, -1.        ],\n",
       "       [ 1.2761111 ,  1.928076  ,  1.        ],\n",
       "       [ 1.10991901, -0.36179493,  1.        ],\n",
       "       [ 3.16860691,  3.63940896, -1.        ],\n",
       "       [ 3.23864479,  2.6050822 , -1.        ],\n",
       "       [ 0.90188115,  2.65241   ,  1.        ],\n",
       "       [ 0.47616061,  2.04540384,  1.        ],\n",
       "       [ 0.37278836,  2.84568365,  1.        ],\n",
       "       [ 2.69021008,  2.01068063, -1.        ],\n",
       "       [ 2.36638019,  2.28306504, -1.        ],\n",
       "       [-1.16703469,  1.08081409,  1.        ],\n",
       "       [ 5.34079478,  5.70238594, -1.        ],\n",
       "       [ 4.54833251,  2.61113618, -1.        ],\n",
       "       [ 3.25573877,  2.81019235, -1.        ],\n",
       "       [ 4.10486233,  4.75007417, -1.        ],\n",
       "       [ 0.66998264,  3.12763279,  1.        ],\n",
       "       [ 4.19088363,  3.00629949, -1.        ],\n",
       "       [-0.74505016,  2.94587351,  1.        ],\n",
       "       [ 2.17142453,  3.17432845, -1.        ],\n",
       "       [ 0.91361296,  1.7282524 ,  1.        ],\n",
       "       [ 4.89152452,  2.76615099, -1.        ],\n",
       "       [ 2.59554496, -0.46185493,  1.        ],\n",
       "       [ 1.29549832,  1.66536419,  1.        ],\n",
       "       [ 1.7538518 ,  3.30996924, -1.        ],\n",
       "       [ 1.97811123,  1.56319917,  1.        ],\n",
       "       [ 1.23412788, -0.2823837 ,  1.        ],\n",
       "       [ 2.71297237,  2.81414157, -1.        ],\n",
       "       [ 2.9893581 ,  2.73941266, -1.        ],\n",
       "       [ 3.83884282,  1.98963027, -1.        ],\n",
       "       [ 2.81529373,  2.75088528, -1.        ],\n",
       "       [ 1.56183323,  2.87362686, -1.        ],\n",
       "       [ 3.98618481,  4.45693841, -1.        ]])"
      ]
     },
     "execution_count": 4,
     "metadata": {},
     "output_type": "execute_result"
    }
   ],
   "source": [
    "csvfile = 'Data3.csv'\n",
    "dat = np.loadtxt(csvfile, delimiter=';')\n",
    "dat"
   ]
  },
  {
   "cell_type": "code",
   "execution_count": 12,
   "id": "ba3e0036",
   "metadata": {},
   "outputs": [],
   "source": [
    "x_train = dat[:,:2]\n",
    "y_train = dat[:,2:]"
   ]
  },
  {
   "cell_type": "code",
   "execution_count": 20,
   "id": "55480362",
   "metadata": {},
   "outputs": [
    {
     "data": {
      "text/plain": [
       "[array([[-0.23417997],\n",
       "        [-0.65085655]], dtype=float32),\n",
       " array([0.], dtype=float32)]"
      ]
     },
     "execution_count": 20,
     "metadata": {},
     "output_type": "execute_result"
    }
   ],
   "source": [
    "model = Sequential()\n",
    "model.add(Dense(1, input_dim=2, activation='softsign'))\n",
    "model.compile(loss='mean_squared_error', optimizer='adam', metrics=['accuracy'])\n",
    "model.get_weights()"
   ]
  },
  {
   "cell_type": "code",
   "execution_count": 21,
   "id": "babc3243",
   "metadata": {},
   "outputs": [
    {
     "data": {
      "text/plain": [
       "<keras.callbacks.History at 0x1c0065e5a00>"
      ]
     },
     "execution_count": 21,
     "metadata": {},
     "output_type": "execute_result"
    }
   ],
   "source": [
    "model.fit(x_train, y_train, batch_size=batch_size, epochs=epochs, verbose=0)"
   ]
  },
  {
   "cell_type": "code",
   "execution_count": 23,
   "id": "62dcf8e0",
   "metadata": {},
   "outputs": [
    {
     "name": "stdout",
     "output_type": "stream",
     "text": [
      "Test loss:  0.5962393879890442\n",
      "Test accuracy:  0.009999999776482582\n",
      "[array([[-0.20356391],\n",
      "       [-0.2243725 ]], dtype=float32), array([0.84637046], dtype=float32)]\n"
     ]
    }
   ],
   "source": [
    "score = model.evaluate(x_train, y_train, verbose=0)\n",
    "print(\"Test loss: \", score[0])\n",
    "print(\"Test accuracy: \", score[1])\n",
    "print(model.get_weights())"
   ]
  },
  {
   "cell_type": "code",
   "execution_count": 25,
   "id": "9600772b",
   "metadata": {},
   "outputs": [
    {
     "name": "stdout",
     "output_type": "stream",
     "text": [
      "w:  [array([[-0.20356391],\n",
      "       [-0.2243725 ]], dtype=float32), array([0.84637046], dtype=float32)]\n"
     ]
    }
   ],
   "source": [
    "p = model.get_weights()\n",
    "print(\"w: \", p)\n",
    "w=[0,0,0]\n",
    "w[0]=p[0][0]\n",
    "w[1]=p[0][1]\n",
    "w[2]=p[1]"
   ]
  },
  {
   "cell_type": "code",
   "execution_count": 37,
   "id": "e00c1668",
   "metadata": {},
   "outputs": [
    {
     "name": "stderr",
     "output_type": "stream",
     "text": [
      "C:\\Users\\Daniel\\anaconda3\\lib\\site-packages\\numpy\\core\\_asarray.py:171: VisibleDeprecationWarning: Creating an ndarray from ragged nested sequences (which is a list-or-tuple of lists-or-tuples-or ndarrays with different lengths or shapes) is deprecated. If you meant to do this, you must specify 'dtype=object' when creating the ndarray.\n",
      "  return array(a, dtype, copy=False, order=order, subok=True)\n"
     ]
    },
    {
     "data": {
      "image/png": "[encoded data removed]",
      "text/plain": [
       "<Figure size 432x288 with 1 Axes>"
      ]
     },
     "metadata": {
      "needs_background": "light"
     },
     "output_type": "display_data"
    }
   ],
   "source": [
    "sep_plane = np.array([1.0, 1.3])\n",
    "sep_plane /= np.linalg.norm(sep_plane) #unit normal vector\n",
    "sep_line = np.array([1.3, -1.0])\n",
    "sep_line /= np.linalg.norm(sep_line)\n",
    "tresh = 3.0\n",
    "lenLine = 6.0\n",
    "# Line2D uses x and y coordinate list (instead of point lists)\n",
    "lx = np.array([(tresh*sep_plane + lenLine*sep_line)[0], (tresh*sep_plane - lenLine*sep_line)[0]])\n",
    "ly = np.array([(tresh*sep_plane + lenLine*sep_line)[1], (tresh*sep_plane - lenLine*sep_line)[1]])\n",
    "\n",
    "plt.plot(lx, ly, color='black', alpha=0.2)\n",
    "\n",
    "for i,d in enumerate(dat):\n",
    "    if d[:2].dot(sep_plane) < tresh:\n",
    "        plt.plot(d[0], d[1], 'bo')\n",
    "    else:\n",
    "        plt.plot(d[0], d[1], color= '#FF8000', marker='o')\n",
    "#show line\n",
    "seplin_x = [0.0, -w[2]/w[0]]\n",
    "seplin_y = [-w[2]/w[1], 0.0]\n",
    "plt.plot(seplin_x, seplin_y, color='red', alpha=0.4)\n",
    "\n",
    "plt.ylabel('class 1 = blue, class -1 = orange')\n",
    "\n",
    "plt.show()"
   ]
  },
  {
   "cell_type": "code",
   "execution_count": 35,
   "id": "fa871386",
   "metadata": {},
   "outputs": [
    {
     "data": {
      "text/plain": [
       "array([[ 0.24727476,  1.        ,  1.        ,  0.        ],\n",
       "       [-0.45208663, -1.        ,  1.        ,  0.        ],\n",
       "       [-0.05005501,  1.        ,  0.        ,  0.        ],\n",
       "       [-0.12947242, -1.        ,  1.        ,  0.        ],\n",
       "       [-0.45915914, -1.        ,  1.        ,  0.        ],\n",
       "       [ 0.05950577,  1.        ,  1.        ,  0.        ],\n",
       "       [ 0.18358323,  1.        ,  1.        ,  0.        ],\n",
       "       [ 0.29785857,  1.        ,  1.        ,  0.        ],\n",
       "       [-0.32001868, -1.        ,  1.        ,  0.        ],\n",
       "       [ 0.1195012 ,  1.        ,  1.        ,  0.        ],\n",
       "       [ 0.20146647,  1.        ,  1.        ,  0.        ],\n",
       "       [ 0.08879301,  1.        ,  1.        ,  0.        ],\n",
       "       [ 0.31612256,  1.        ,  1.        ,  0.        ],\n",
       "       [ 0.44079277,  1.        ,  1.        ,  0.        ],\n",
       "       [ 0.20889638,  1.        ,  1.        ,  0.        ],\n",
       "       [-0.26851881, -1.        ,  1.        ,  0.        ],\n",
       "       [-0.38350052, -1.        ,  1.        ,  0.        ],\n",
       "       [ 0.43419001,  1.        ,  1.        ,  0.        ],\n",
       "       [-0.11221384, -1.        ,  1.        ,  0.        ],\n",
       "       [ 0.27155951,  1.        ,  1.        ,  0.        ],\n",
       "       [-0.07168727,  1.        ,  0.        ,  0.        ],\n",
       "       [ 0.2775327 ,  1.        ,  1.        ,  0.        ],\n",
       "       [-0.18848279, -1.        ,  1.        ,  0.        ],\n",
       "       [-0.47855562, -1.        ,  1.        ,  0.        ],\n",
       "       [-0.10086882, -1.        ,  1.        ,  0.        ],\n",
       "       [ 0.17437212,  1.        ,  1.        ,  0.        ],\n",
       "       [-0.18257821, -1.        ,  1.        ,  0.        ],\n",
       "       [ 0.18063757,  1.        ,  1.        ,  0.        ],\n",
       "       [ 0.1593312 ,  1.        ,  1.        ,  0.        ],\n",
       "       [ 0.12393747,  1.        ,  1.        ,  0.        ],\n",
       "       [-0.103448  , -1.        ,  1.        ,  0.        ],\n",
       "       [-0.12129604, -1.        ,  1.        ,  0.        ],\n",
       "       [-0.44135717, -1.        ,  1.        ,  0.        ],\n",
       "       [ 0.29668933,  1.        ,  1.        ,  0.        ],\n",
       "       [ 0.2963295 ,  1.        ,  1.        ,  0.        ],\n",
       "       [-0.38794446, -1.        ,  1.        ,  0.        ],\n",
       "       [-0.11973413, -1.        ,  1.        ,  0.        ],\n",
       "       [-0.09277362, -1.        ,  1.        ,  0.        ],\n",
       "       [ 0.11999482,  1.        ,  1.        ,  0.        ],\n",
       "       [ 0.38974202,  1.        ,  1.        ,  0.        ],\n",
       "       [-0.01097085,  1.        ,  0.        ,  0.        ],\n",
       "       [ 0.46693051,  1.        ,  1.        ,  0.        ],\n",
       "       [-0.04001688,  1.        ,  0.        ,  0.        ],\n",
       "       [ 0.09041353,  1.        ,  1.        ,  0.        ],\n",
       "       [ 0.39932606,  1.        ,  1.        ,  0.        ],\n",
       "       [ 0.11836519,  1.        ,  1.        ,  0.        ],\n",
       "       [ 0.31143478,  1.        ,  1.        ,  0.        ],\n",
       "       [-0.25871107, -1.        ,  1.        ,  0.        ],\n",
       "       [-0.24869858, -1.        ,  1.        ,  0.        ],\n",
       "       [-0.05390053,  1.        ,  0.        ,  0.        ],\n",
       "       [-0.15487334, -1.        ,  1.        ,  0.        ],\n",
       "       [-0.03810063,  1.        ,  0.        ,  0.        ],\n",
       "       [ 0.45510429,  1.        ,  1.        ,  0.        ],\n",
       "       [ 0.21571273,  1.        ,  1.        ,  0.        ],\n",
       "       [ 0.17013909,  1.        ,  1.        ,  0.        ],\n",
       "       [-0.35443753, -1.        ,  1.        ,  0.        ],\n",
       "       [-0.36725613, -1.        ,  1.        ,  0.        ],\n",
       "       [-0.42934227, -1.        ,  1.        ,  0.        ],\n",
       "       [ 0.22062305,  1.        ,  1.        ,  0.        ],\n",
       "       [ 0.07470345,  1.        ,  1.        ,  0.        ],\n",
       "       [-0.40571648, -1.        ,  1.        ,  0.        ],\n",
       "       [ 0.22823046,  1.        ,  1.        ,  0.        ],\n",
       "       [ 0.54279888,  1.        ,  1.        ,  1.        ],\n",
       "       [ 0.01755697,  1.        ,  1.        ,  0.        ],\n",
       "       [-0.17460006, -1.        ,  1.        ,  0.        ],\n",
       "       [-0.01311104,  1.        ,  0.        ,  0.        ],\n",
       "       [-0.44872627, -1.        ,  1.        ,  0.        ],\n",
       "       [ 0.40995663,  1.        ,  1.        ,  0.        ],\n",
       "       [-0.28662956, -1.        ,  1.        ,  0.        ],\n",
       "       [ 0.13344362,  1.        ,  1.        ,  0.        ],\n",
       "       [ 0.41232052,  1.        ,  1.        ,  0.        ],\n",
       "       [-0.38089198, -1.        ,  1.        ,  0.        ],\n",
       "       [-0.28439024, -1.        ,  1.        ,  0.        ],\n",
       "       [ 0.06336531,  1.        ,  1.        ,  0.        ],\n",
       "       [ 0.2251119 ,  1.        ,  1.        ,  0.        ],\n",
       "       [ 0.11660077,  1.        ,  1.        ,  0.        ],\n",
       "       [-0.1322463 , -1.        ,  1.        ,  0.        ],\n",
       "       [-0.12861338, -1.        ,  1.        ,  0.        ],\n",
       "       [ 0.45694426,  1.        ,  1.        ,  0.        ],\n",
       "       [-0.60321885, -1.        ,  1.        ,  1.        ],\n",
       "       [-0.39953396, -1.        ,  1.        ,  0.        ],\n",
       "       [-0.30887219, -1.        ,  1.        ,  0.        ],\n",
       "       [-0.51338613, -1.        ,  1.        ,  1.        ],\n",
       "       [ 0.0081642 ,  1.        ,  1.        ,  0.        ],\n",
       "       [-0.40521267, -1.        ,  1.        ,  0.        ],\n",
       "       [ 0.25209194,  1.        ,  1.        ,  0.        ],\n",
       "       [-0.23540688, -1.        ,  1.        ,  0.        ],\n",
       "       [ 0.21421917,  1.        ,  1.        ,  0.        ],\n",
       "       [-0.43503323, -1.        ,  1.        ,  0.        ],\n",
       "       [ 0.29658642,  1.        ,  1.        ,  0.        ],\n",
       "       [ 0.17286451,  1.        ,  1.        ,  0.        ],\n",
       "       [-0.20211695, -1.        ,  1.        ,  0.        ],\n",
       "       [ 0.08505299,  1.        ,  1.        ,  0.        ],\n",
       "       [ 0.39704758,  1.        ,  1.        ,  0.        ],\n",
       "       [-0.25222954, -1.        ,  1.        ,  0.        ],\n",
       "       [-0.27368015, -1.        ,  1.        ,  0.        ],\n",
       "       [-0.27614793, -1.        ,  1.        ,  0.        ],\n",
       "       [-0.25592181, -1.        ,  1.        ,  0.        ],\n",
       "       [-0.10420378, -1.        ,  1.        ,  0.        ],\n",
       "       [-0.49111679, -1.        ,  1.        ,  0.        ]])"
      ]
     },
     "execution_count": 35,
     "metadata": {},
     "output_type": "execute_result"
    }
   ],
   "source": [
    "z = np.hstack((model.predict(x_train), y_train))\n",
    "res1 = [[1 if abs(x[0]-x[1]) < 1.0 else 0] for x in z]\n",
    "res05 = [[1 if abs(x[0]-x[1]) < 0.5 else 0] for x in z]\n",
    "z = np.hstack((z, res1, res05))\n",
    "z"
   ]
  }
 ],
 "metadata": {
  "kernelspec": {
   "display_name": "Python 3",
   "language": "python",
   "name": "python3"
  },
  "language_info": {
   "codemirror_mode": {
    "name": "ipython",
    "version": 3
   },
   "file_extension": ".py",
   "mimetype": "text/x-python",
   "name": "python",
   "nbconvert_exporter": "python",
   "pygments_lexer": "ipython3",
   "version": "3.8.8"
  }
 },
 "nbformat": 4,
 "nbformat_minor": 5
}
