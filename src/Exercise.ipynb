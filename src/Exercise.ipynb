{
 "cells": [
  {
   "cell_type": "code",
   "execution_count": 1,
   "id": "c2d34d6f",
   "metadata": {},
   "outputs": [
    {
     "name": "stdout",
     "output_type": "stream",
     "text": [
      "Requirement already satisfied: keras in c:\\users\\daniel\\anaconda3\\lib\\site-packages (2.7.0)\n",
      "Note: you may need to restart the kernel to use updated packages.\n"
     ]
    }
   ],
   "source": [
    "pip install keras"
   ]
  },
  {
   "cell_type": "code",
   "execution_count": 1,
   "id": "87b70d2b",
   "metadata": {},
   "outputs": [
    {
     "name": "stdout",
     "output_type": "stream",
     "text": [
      "Requirement already satisfied: tensorflow in c:\\users\\daniel\\anaconda3\\lib\\site-packages (2.7.0)\n",
      "Requirement already satisfied: tensorflow-io-gcs-filesystem>=0.21.0 in c:\\users\\daniel\\anaconda3\\lib\\site-packages (from tensorflow) (0.22.0)\n",
      "Requirement already satisfied: keras-preprocessing>=1.1.1 in c:\\users\\daniel\\anaconda3\\lib\\site-packages (from tensorflow) (1.1.2)\n",
      "Requirement already satisfied: absl-py>=0.4.0 in c:\\users\\daniel\\anaconda3\\lib\\site-packages (from tensorflow) (1.0.0)\n",
      "Requirement already satisfied: google-pasta>=0.1.1 in c:\\users\\daniel\\anaconda3\\lib\\site-packages (from tensorflow) (0.2.0)\n",
      "Requirement already satisfied: gast<0.5.0,>=0.2.1 in c:\\users\\daniel\\anaconda3\\lib\\site-packages (from tensorflow) (0.4.0)\n",
      "Requirement already satisfied: opt-einsum>=2.3.2 in c:\\users\\daniel\\anaconda3\\lib\\site-packages (from tensorflow) (3.3.0)\n",
      "Requirement already satisfied: flatbuffers<3.0,>=1.12 in c:\\users\\daniel\\anaconda3\\lib\\site-packages (from tensorflow) (2.0)\n",
      "Requirement already satisfied: termcolor>=1.1.0 in c:\\users\\daniel\\anaconda3\\lib\\site-packages (from tensorflow) (1.1.0)\n",
      "Requirement already satisfied: wrapt>=1.11.0 in c:\\users\\daniel\\anaconda3\\lib\\site-packages (from tensorflow) (1.12.1)\n",
      "Note: you may need to restart the kernel to use updated packages.\n",
      "Requirement already satisfied: astunparse>=1.6.0 in c:\\users\\daniel\\anaconda3\\lib\\site-packages (from tensorflow) (1.6.3)\n",
      "Requirement already satisfied: keras<2.8,>=2.7.0rc0 in c:\\users\\daniel\\anaconda3\\lib\\site-packages (from tensorflow) (2.7.0)\n",
      "Requirement already satisfied: grpcio<2.0,>=1.24.3 in c:\\users\\daniel\\anaconda3\\lib\\site-packages (from tensorflow) (1.42.0)\n",
      "Requirement already satisfied: tensorboard~=2.6 in c:\\users\\daniel\\anaconda3\\lib\\site-packages (from tensorflow) (2.7.0)\n",
      "Requirement already satisfied: six>=1.12.0 in c:\\users\\daniel\\anaconda3\\lib\\site-packages (from tensorflow) (1.15.0)\n",
      "Requirement already satisfied: wheel<1.0,>=0.32.0 in c:\\users\\daniel\\anaconda3\\lib\\site-packages (from tensorflow) (0.36.2)\n",
      "Requirement already satisfied: typing-extensions>=3.6.6 in c:\\users\\daniel\\anaconda3\\lib\\site-packages (from tensorflow) (3.7.4.3)\n",
      "Requirement already satisfied: tensorflow-estimator<2.8,~=2.7.0rc0 in c:\\users\\daniel\\anaconda3\\lib\\site-packages (from tensorflow) (2.7.0)\n",
      "Requirement already satisfied: protobuf>=3.9.2 in c:\\users\\daniel\\anaconda3\\lib\\site-packages (from tensorflow) (3.19.1)\n",
      "Requirement already satisfied: h5py>=2.9.0 in c:\\users\\daniel\\anaconda3\\lib\\site-packages (from tensorflow) (2.10.0)\n",
      "Requirement already satisfied: libclang>=9.0.1 in c:\\users\\daniel\\anaconda3\\lib\\site-packages (from tensorflow) (12.0.0)\n",
      "Requirement already satisfied: numpy>=1.14.5 in c:\\users\\daniel\\anaconda3\\lib\\site-packages (from tensorflow) (1.20.1)\n",
      "Requirement already satisfied: tensorboard-data-server<0.7.0,>=0.6.0 in c:\\users\\daniel\\anaconda3\\lib\\site-packages (from tensorboard~=2.6->tensorflow) (0.6.1)\n",
      "Requirement already satisfied: requests<3,>=2.21.0 in c:\\users\\daniel\\anaconda3\\lib\\site-packages (from tensorboard~=2.6->tensorflow) (2.25.1)\n",
      "Requirement already satisfied: google-auth<3,>=1.6.3 in c:\\users\\daniel\\anaconda3\\lib\\site-packages (from tensorboard~=2.6->tensorflow) (2.3.3)\n",
      "Requirement already satisfied: setuptools>=41.0.0 in c:\\users\\daniel\\anaconda3\\lib\\site-packages (from tensorboard~=2.6->tensorflow) (52.0.0.post20210125)\n",
      "Requirement already satisfied: google-auth-oauthlib<0.5,>=0.4.1 in c:\\users\\daniel\\anaconda3\\lib\\site-packages (from tensorboard~=2.6->tensorflow) (0.4.6)\n",
      "Requirement already satisfied: tensorboard-plugin-wit>=1.6.0 in c:\\users\\daniel\\anaconda3\\lib\\site-packages (from tensorboard~=2.6->tensorflow) (1.8.0)\n",
      "Requirement already satisfied: werkzeug>=0.11.15 in c:\\users\\daniel\\anaconda3\\lib\\site-packages (from tensorboard~=2.6->tensorflow) (1.0.1)\n",
      "Requirement already satisfied: markdown>=2.6.8 in c:\\users\\daniel\\anaconda3\\lib\\site-packages (from tensorboard~=2.6->tensorflow) (3.3.6)\n",
      "Requirement already satisfied: cachetools<5.0,>=2.0.0 in c:\\users\\daniel\\anaconda3\\lib\\site-packages (from google-auth<3,>=1.6.3->tensorboard~=2.6->tensorflow) (4.2.4)\n",
      "Requirement already satisfied: rsa<5,>=3.1.4 in c:\\users\\daniel\\anaconda3\\lib\\site-packages (from google-auth<3,>=1.6.3->tensorboard~=2.6->tensorflow) (4.8)\n",
      "Requirement already satisfied: pyasn1-modules>=0.2.1 in c:\\users\\daniel\\anaconda3\\lib\\site-packages (from google-auth<3,>=1.6.3->tensorboard~=2.6->tensorflow) (0.2.8)\n",
      "Requirement already satisfied: requests-oauthlib>=0.7.0 in c:\\users\\daniel\\anaconda3\\lib\\site-packages (from google-auth-oauthlib<0.5,>=0.4.1->tensorboard~=2.6->tensorflow) (1.3.0)\n",
      "Requirement already satisfied: importlib-metadata>=4.4 in c:\\users\\daniel\\anaconda3\\lib\\site-packages (from markdown>=2.6.8->tensorboard~=2.6->tensorflow) (4.8.2)\n",
      "Requirement already satisfied: zipp>=0.5 in c:\\users\\daniel\\anaconda3\\lib\\site-packages (from importlib-metadata>=4.4->markdown>=2.6.8->tensorboard~=2.6->tensorflow) (3.4.1)\n",
      "Requirement already satisfied: pyasn1<0.5.0,>=0.4.6 in c:\\users\\daniel\\anaconda3\\lib\\site-packages (from pyasn1-modules>=0.2.1->google-auth<3,>=1.6.3->tensorboard~=2.6->tensorflow) (0.4.8)\n",
      "Requirement already satisfied: urllib3<1.27,>=1.21.1 in c:\\users\\daniel\\anaconda3\\lib\\site-packages (from requests<3,>=2.21.0->tensorboard~=2.6->tensorflow) (1.26.4)\n",
      "Requirement already satisfied: certifi>=2017.4.17 in c:\\users\\daniel\\anaconda3\\lib\\site-packages (from requests<3,>=2.21.0->tensorboard~=2.6->tensorflow) (2020.12.5)\n",
      "Requirement already satisfied: chardet<5,>=3.0.2 in c:\\users\\daniel\\anaconda3\\lib\\site-packages (from requests<3,>=2.21.0->tensorboard~=2.6->tensorflow) (4.0.0)\n",
      "Requirement already satisfied: idna<3,>=2.5 in c:\\users\\daniel\\anaconda3\\lib\\site-packages (from requests<3,>=2.21.0->tensorboard~=2.6->tensorflow) (2.10)\n",
      "Requirement already satisfied: oauthlib>=3.0.0 in c:\\users\\daniel\\anaconda3\\lib\\site-packages (from requests-oauthlib>=0.7.0->google-auth-oauthlib<0.5,>=0.4.1->tensorboard~=2.6->tensorflow) (3.1.1)\n"
     ]
    }
   ],
   "source": [
    "pip install tensorflow"
   ]
  },
  {
   "cell_type": "code",
   "execution_count": 40,
   "id": "8a05902f",
   "metadata": {},
   "outputs": [],
   "source": [
    "import numpy as np\n",
    "import keras\n",
    "from keras.models import Sequential\n",
    "from keras.layers import Dense\n",
    "import tensorflow as tf\n",
    "import matplotlib.pyplot as plt"
   ]
  },
  {
   "cell_type": "code",
   "execution_count": 3,
   "id": "8871b40a",
   "metadata": {},
   "outputs": [],
   "source": [
    "batch_size = 100\n",
    "num_classes = 2\n",
    "epochs = 1000"
   ]
  },
  {
   "cell_type": "code",
   "execution_count": 4,
   "id": "9ea244aa",
   "metadata": {},
   "outputs": [
    {
     "data": {
      "text/plain": [
       "array([[ 1.24822988,  1.17558926,  1.        ],\n",
       "       [ 3.94969529,  3.86616438, -1.        ],\n",
       "       [ 2.10952868,  2.0931219 ,  1.        ],\n",
       "       [ 2.06610425,  2.5605405 , -1.        ],\n",
       "       [ 4.25217339,  3.69810939, -1.        ],\n",
       "       [ 2.52023855,  1.20366833,  1.        ],\n",
       "       [ 1.90113709,  1.0451502 ,  1.        ],\n",
       "       [ 1.10488782,  0.87907679,  1.        ],\n",
       "       [ 3.77429055,  2.44544113, -1.        ],\n",
       "       [ 2.46059105,  0.93488713,  1.        ],\n",
       "       [ 0.44382666,  2.24505144,  1.        ],\n",
       "       [ 1.92075136,  1.59524579,  1.        ],\n",
       "       [-0.66834813,  2.31833982,  1.        ],\n",
       "       [ 0.27768176,  0.00712491,  1.        ],\n",
       "       [ 0.79718746,  1.87204283,  1.        ],\n",
       "       [ 1.51474144,  4.03397433, -1.        ],\n",
       "       [ 4.11906238,  2.80756053, -1.        ],\n",
       "       [-1.25666813,  1.49218372,  1.        ],\n",
       "       [ 2.07096093,  2.45660641, -1.        ],\n",
       "       [ 2.53668959, -0.19077101,  1.        ],\n",
       "       [ 3.52632348,  0.91705277,  1.        ],\n",
       "       [ 2.30363071, -0.02991144,  1.        ],\n",
       "       [ 3.30743045,  1.80662397, -1.        ],\n",
       "       [ 4.34288774,  3.92233983, -1.        ],\n",
       "       [ 2.11647326,  2.35197107, -1.        ],\n",
       "       [ 1.14144717,  1.79528943,  1.        ],\n",
       "       [ 2.8488289 ,  2.18302286, -1.        ],\n",
       "       [ 1.83692207,  1.12303535,  1.        ],\n",
       "       [ 2.21467179,  0.91817865,  1.        ],\n",
       "       [ 1.23501319,  2.02117132,  1.        ],\n",
       "       [ 2.88003738,  1.67348088, -1.        ],\n",
       "       [ 1.53939197,  2.99076532, -1.        ],\n",
       "       [ 4.35402909,  3.34310024, -1.        ],\n",
       "       [ 0.39183697,  1.53655109,  1.        ],\n",
       "       [ 0.95053821,  1.03290506,  1.        ],\n",
       "       [ 3.90171091,  3.05724434, -1.        ],\n",
       "       [ 2.45895174,  2.14748717, -1.        ],\n",
       "       [ 1.42672063,  2.9335252 , -1.        ],\n",
       "       [ 1.80329282,  1.52838769,  1.        ],\n",
       "       [ 0.75111939,  0.24431902,  1.        ],\n",
       "       [ 1.24546257,  2.69164778,  1.        ],\n",
       "       [ 0.0827868 , -0.20684365,  1.        ],\n",
       "       [ 1.85151218,  2.27815077,  1.        ],\n",
       "       [ 2.53674225,  1.02766864,  1.        ],\n",
       "       [ 0.53312673,  0.32556732,  1.        ],\n",
       "       [ 1.95884093,  1.39662675,  1.        ],\n",
       "       [ 0.85125563,  0.98403447,  1.        ],\n",
       "       [ 2.75830454,  2.82512723, -1.        ],\n",
       "       [ 3.21941572,  2.32665477, -1.        ],\n",
       "       [ 2.68600984,  1.58917456,  1.        ],\n",
       "       [ 2.45518983,  2.3614168 , -1.        ],\n",
       "       [ 1.9266063 ,  2.20077211,  1.        ],\n",
       "       [-0.14060196,  0.1772872 ,  1.        ],\n",
       "       [ 1.74335008,  0.9646649 ,  1.        ],\n",
       "       [ 1.60275259,  1.40430151,  1.        ],\n",
       "       [ 2.09308719,  4.32018246, -1.        ],\n",
       "       [ 2.80059795,  3.81815135, -1.        ],\n",
       "       [ 4.1264653 ,  3.38158602, -1.        ],\n",
       "       [ 0.03632031,  2.47757979,  1.        ],\n",
       "       [ 2.65350481,  1.00492703,  1.        ],\n",
       "       [ 2.81527165,  4.26068842, -1.        ],\n",
       "       [ 2.2668467 ,  0.39754727,  1.        ],\n",
       "       [-1.40334676, -0.24593053,  1.        ],\n",
       "       [ 1.44192321,  2.38432137,  1.        ],\n",
       "       [ 0.99023119,  3.81655057, -1.        ],\n",
       "       [ 0.91891084,  2.99768739,  1.        ],\n",
       "       [ 3.15087517,  4.54131757, -1.        ],\n",
       "       [ 0.22152276,  0.47459371,  1.        ],\n",
       "       [ 1.90283044,  3.83656239, -1.        ],\n",
       "       [ 1.2761111 ,  1.928076  ,  1.        ],\n",
       "       [ 1.10991901, -0.36179493,  1.        ],\n",
       "       [ 3.16860691,  3.63940896, -1.        ],\n",
       "       [ 3.23864479,  2.6050822 , -1.        ],\n",
       "       [ 0.90188115,  2.65241   ,  1.        ],\n",
       "       [ 0.47616061,  2.04540384,  1.        ],\n",
       "       [ 0.37278836,  2.84568365,  1.        ],\n",
       "       [ 2.69021008,  2.01068063, -1.        ],\n",
       "       [ 2.36638019,  2.28306504, -1.        ],\n",
       "       [-1.16703469,  1.08081409,  1.        ],\n",
       "       [ 5.34079478,  5.70238594, -1.        ],\n",
       "       [ 4.54833251,  2.61113618, -1.        ],\n",
       "       [ 3.25573877,  2.81019235, -1.        ],\n",
       "       [ 4.10486233,  4.75007417, -1.        ],\n",
       "       [ 0.66998264,  3.12763279,  1.        ],\n",
       "       [ 4.19088363,  3.00629949, -1.        ],\n",
       "       [-0.74505016,  2.94587351,  1.        ],\n",
       "       [ 2.17142453,  3.17432845, -1.        ],\n",
       "       [ 0.91361296,  1.7282524 ,  1.        ],\n",
       "       [ 4.89152452,  2.76615099, -1.        ],\n",
       "       [ 2.59554496, -0.46185493,  1.        ],\n",
       "       [ 1.29549832,  1.66536419,  1.        ],\n",
       "       [ 1.7538518 ,  3.30996924, -1.        ],\n",
       "       [ 1.97811123,  1.56319917,  1.        ],\n",
       "       [ 1.23412788, -0.2823837 ,  1.        ],\n",
       "       [ 2.71297237,  2.81414157, -1.        ],\n",
       "       [ 2.9893581 ,  2.73941266, -1.        ],\n",
       "       [ 3.83884282,  1.98963027, -1.        ],\n",
       "       [ 2.81529373,  2.75088528, -1.        ],\n",
       "       [ 1.56183323,  2.87362686, -1.        ],\n",
       "       [ 3.98618481,  4.45693841, -1.        ]])"
      ]
     },
     "execution_count": 4,
     "metadata": {},
     "output_type": "execute_result"
    }
   ],
   "source": [
    "csvfile = 'Data3.csv'\n",
    "dat = np.loadtxt(csvfile, delimiter=';')\n",
    "dat"
   ]
  },
  {
   "cell_type": "code",
   "execution_count": 12,
   "id": "03e313ab",
   "metadata": {},
   "outputs": [],
   "source": [
    "x_train = dat[:,:2]\n",
    "y_train = dat[:,2:]"
   ]
  },
  {
   "cell_type": "code",
   "execution_count": 42,
   "id": "14bab5d4",
   "metadata": {},
   "outputs": [
    {
     "data": {
      "text/plain": [
       "[array([[-1.110296  ],\n",
       "        [-0.79168165]], dtype=float32),\n",
       " array([0.], dtype=float32)]"
      ]
     },
     "execution_count": 42,
     "metadata": {},
     "output_type": "execute_result"
    }
   ],
   "source": [
    "model = Sequential()\n",
    "model.add(Dense(1, input_dim=2, activation='softsign'))\n",
    "model.compile(loss='mean_squared_error', optimizer=tf.keras.optimizers.Adam(learning_rate=0.7), metrics=['accuracy'])\n",
    "model.get_weights()"
   ]
  },
  {
   "cell_type": "code",
   "execution_count": 43,
   "id": "d05268a3",
   "metadata": {},
   "outputs": [
    {
     "data": {
      "text/plain": [
       "<keras.callbacks.History at 0x1c009392250>"
      ]
     },
     "execution_count": 43,
     "metadata": {},
     "output_type": "execute_result"
    }
   ],
   "source": [
    "model.fit(x_train, y_train, batch_size=batch_size, epochs=epochs, verbose=0)"
   ]
  },
  {
   "cell_type": "code",
   "execution_count": 44,
   "id": "fa71c03e",
   "metadata": {},
   "outputs": [
    {
     "name": "stdout",
     "output_type": "stream",
     "text": [
      "Test loss:  0.0321023091673851\n",
      "Test accuracy:  0.550000011920929\n",
      "[array([[-7.313215],\n",
      "       [-8.962425]], dtype=float32), array([35.246113], dtype=float32)]\n"
     ]
    }
   ],
   "source": [
    "score = model.evaluate(x_train, y_train, verbose=0)\n",
    "print(\"Test loss: \", score[0])\n",
    "print(\"Test accuracy: \", score[1])\n",
    "print(model.get_weights())"
   ]
  },
  {
   "cell_type": "code",
   "execution_count": 45,
   "id": "091d638f",
   "metadata": {},
   "outputs": [
    {
     "name": "stdout",
     "output_type": "stream",
     "text": [
      "w:  [array([[-7.313215],\n",
      "       [-8.962425]], dtype=float32), array([35.246113], dtype=float32)]\n"
     ]
    }
   ],
   "source": [
    "p = model.get_weights()\n",
    "print(\"w: \", p)\n",
    "w=[0,0,0]\n",
    "w[0]=p[0][0]\n",
    "w[1]=p[0][1]\n",
    "w[2]=p[1]"
   ]
  },
  {
   "cell_type": "code",
   "execution_count": 46,
   "id": "8d3e7afe",
   "metadata": {},
   "outputs": [
    {
     "name": "stderr",
     "output_type": "stream",
     "text": [
      "C:\\Users\\Daniel\\anaconda3\\lib\\site-packages\\numpy\\core\\_asarray.py:171: VisibleDeprecationWarning: Creating an ndarray from ragged nested sequences (which is a list-or-tuple of lists-or-tuples-or ndarrays with different lengths or shapes) is deprecated. If you meant to do this, you must specify 'dtype=object' when creating the ndarray.\n",
      "  return array(a, dtype, copy=False, order=order, subok=True)\n"
     ]
    },
    {
     "data": {
      "image/png": "[encoded data removed]",
      "text/plain": [
       "<Figure size 432x288 with 1 Axes>"
      ]
     },
     "metadata": {
      "needs_background": "light"
     },
     "output_type": "display_data"
    }
   ],
   "source": [
    "sep_plane = np.array([1.0, 1.3])\n",
    "sep_plane /= np.linalg.norm(sep_plane) #unit normal vector\n",
    "sep_line = np.array([1.3, -1.0])\n",
    "sep_line /= np.linalg.norm(sep_line)\n",
    "tresh = 3.0\n",
    "lenLine = 6.0\n",
    "# Line2D uses x and y coordinate list (instead of point lists)\n",
    "lx = np.array([(tresh*sep_plane + lenLine*sep_line)[0], (tresh*sep_plane - lenLine*sep_line)[0]])\n",
    "ly = np.array([(tresh*sep_plane + lenLine*sep_line)[1], (tresh*sep_plane - lenLine*sep_line)[1]])\n",
    "\n",
    "plt.plot(lx, ly, color='black', alpha=0.2)\n",
    "\n",
    "for i,d in enumerate(dat):\n",
    "    if d[:2].dot(sep_plane) < tresh:\n",
    "        plt.plot(d[0], d[1], 'bo')\n",
    "    else:\n",
    "        plt.plot(d[0], d[1], color= '#FF8000', marker='o')\n",
    "#show line\n",
    "seplin_x = [0.0, -w[2]/w[0]]\n",
    "seplin_y = [-w[2]/w[1], 0.0]\n",
    "plt.plot(seplin_x, seplin_y, color='red', alpha=0.4)\n",
    "\n",
    "plt.ylabel('class 1 = blue, class -1 = orange')\n",
    "\n",
    "plt.show()"
   ]
  },
  {
   "cell_type": "code",
   "execution_count": 47,
   "id": "61bff50f",
   "metadata": {},
   "outputs": [
    {
     "data": {
      "text/plain": [
       "array([[ 0.93969148,  1.        ,  1.        ,  1.        ],\n",
       "       [-0.96585757, -1.        ,  1.        ,  1.        ],\n",
       "       [ 0.51438087,  1.        ,  1.        ,  1.        ],\n",
       "       [-0.73769838, -1.        ,  1.        ,  1.        ],\n",
       "       [-0.9666611 , -1.        ,  1.        ,  1.        ],\n",
       "       [ 0.85769743,  1.        ,  1.        ,  1.        ],\n",
       "       [ 0.92293233,  1.        ,  1.        ,  1.        ],\n",
       "       [ 0.95070779,  1.        ,  1.        ,  1.        ],\n",
       "       [-0.93452567, -1.        ,  1.        ,  1.        ],\n",
       "       [ 0.89870775,  1.        ,  1.        ,  1.        ],\n",
       "       [ 0.92235547,  1.        ,  1.        ,  1.        ],\n",
       "       [ 0.87344933,  1.        ,  1.        ,  1.        ],\n",
       "       [ 0.95087427,  1.        ,  1.        ,  1.        ],\n",
       "       [ 0.97071874,  1.        ,  1.        ,  1.        ],\n",
       "       [ 0.9266758 ,  1.        ,  1.        ,  1.        ],\n",
       "       [-0.92299223, -1.        ,  1.        ,  1.        ],\n",
       "       [-0.95247155, -1.        ,  1.        ,  1.        ],\n",
       "       [ 0.96881121,  1.        ,  1.        ,  1.        ],\n",
       "       [-0.65711385, -1.        ,  1.        ,  1.        ],\n",
       "       [ 0.94846565,  1.        ,  1.        ,  1.        ],\n",
       "       [ 0.55323929,  1.        ,  1.        ,  1.        ],\n",
       "       [ 0.94915402,  1.        ,  1.        ,  1.        ],\n",
       "       [-0.83696288, -1.        ,  1.        ,  1.        ],\n",
       "       [-0.96938902, -1.        ,  1.        ,  1.        ],\n",
       "       [-0.5673756 , -1.        ,  1.        ,  1.        ],\n",
       "       [ 0.9153139 ,  1.        ,  1.        ,  1.        ],\n",
       "       [-0.83748198, -1.        ,  1.        ,  1.        ],\n",
       "       [ 0.92155135,  1.        ,  1.        ,  1.        ],\n",
       "       [ 0.91540217,  1.        ,  1.        ,  1.        ],\n",
       "       [ 0.89010501,  1.        ,  1.        ,  1.        ],\n",
       "       [-0.44893464, -1.        ,  1.        ,  0.        ],\n",
       "       [-0.7379663 , -1.        ,  1.        ,  1.        ],\n",
       "       [-0.96371305, -1.        ,  1.        ,  1.        ],\n",
       "       [ 0.94900382,  1.        ,  1.        ,  1.        ],\n",
       "       [ 0.95009303,  1.        ,  1.        ,  1.        ],\n",
       "       [-0.95389211, -1.        ,  1.        ,  1.        ],\n",
       "       [-0.66481435, -1.        ,  1.        ,  1.        ],\n",
       "       [-0.59666055, -1.        ,  1.        ,  1.        ],\n",
       "       [ 0.89316452,  1.        ,  1.        ,  1.        ],\n",
       "       [ 0.96499008,  1.        ,  1.        ,  1.        ],\n",
       "       [ 0.66822463,  1.        ,  1.        ,  1.        ],\n",
       "       [ 0.97332942,  1.        ,  1.        ,  1.        ],\n",
       "       [ 0.56290829,  1.        ,  1.        ,  1.        ],\n",
       "       [ 0.88213068,  1.        ,  1.        ,  1.        ],\n",
       "       [ 0.96602035,  1.        ,  1.        ,  1.        ],\n",
       "       [ 0.89365691,  1.        ,  1.        ,  1.        ],\n",
       "       [ 0.95283324,  1.        ,  1.        ,  1.        ],\n",
       "       [-0.91107911, -1.        ,  1.        ,  1.        ],\n",
       "       [-0.90148401, -1.        ,  1.        ,  1.        ],\n",
       "       [ 0.57625073,  1.        ,  1.        ,  1.        ],\n",
       "       [-0.79479778, -1.        ,  1.        ,  1.        ],\n",
       "       [ 0.58884466,  1.        ,  1.        ,  1.        ],\n",
       "       [ 0.97197735,  1.        ,  1.        ,  1.        ],\n",
       "       [ 0.93266392,  1.        ,  1.        ,  1.        ],\n",
       "       [ 0.91624016,  1.        ,  1.        ,  1.        ],\n",
       "       [-0.94944489, -1.        ,  1.        ,  1.        ],\n",
       "       [-0.95111257, -1.        ,  1.        ,  1.        ],\n",
       "       [-0.96188855, -1.        ,  1.        ,  1.        ],\n",
       "       [ 0.92740667,  1.        ,  1.        ,  1.        ],\n",
       "       [ 0.87234932,  1.        ,  1.        ,  1.        ],\n",
       "       [-0.95923138, -1.        ,  1.        ,  1.        ],\n",
       "       [ 0.93790823,  1.        ,  1.        ,  1.        ],\n",
       "       [ 0.97947168,  1.        ,  1.        ,  1.        ],\n",
       "       [ 0.76914454,  1.        ,  1.        ,  1.        ],\n",
       "       [-0.86113435, -1.        ,  1.        ,  1.        ],\n",
       "       [ 0.62397116,  1.        ,  1.        ,  1.        ],\n",
       "       [-0.96609956, -1.        ,  1.        ,  1.        ],\n",
       "       [ 0.96707553,  1.        ,  1.        ,  1.        ],\n",
       "       [-0.92884892, -1.        ,  1.        ,  1.        ],\n",
       "       [ 0.89619452,  1.        ,  1.        ,  1.        ],\n",
       "       [ 0.96812403,  1.        ,  1.        ,  1.        ],\n",
       "       [-0.95358449, -1.        ,  1.        ,  1.        ],\n",
       "       [-0.9217934 , -1.        ,  1.        ,  1.        ],\n",
       "       [ 0.82988673,  1.        ,  1.        ,  1.        ],\n",
       "       [ 0.93070984,  1.        ,  1.        ,  1.        ],\n",
       "       [ 0.87524337,  1.        ,  1.        ,  1.        ],\n",
       "       [-0.71002251, -1.        ,  1.        ,  1.        ],\n",
       "       [-0.71603286, -1.        ,  1.        ,  1.        ],\n",
       "       [ 0.97150522,  1.        ,  1.        ,  1.        ],\n",
       "       [-0.98211712, -1.        ,  1.        ,  1.        ],\n",
       "       [-0.95539486, -1.        ,  1.        ,  1.        ],\n",
       "       [-0.93220311, -1.        ,  1.        ,  1.        ],\n",
       "       [-0.97392154, -1.        ,  1.        ,  1.        ],\n",
       "       [ 0.6983602 ,  1.        ,  1.        ,  1.        ],\n",
       "       [-0.95716697, -1.        ,  1.        ,  1.        ],\n",
       "       [ 0.93460912,  1.        ,  1.        ,  1.        ],\n",
       "       [-0.90082967, -1.        ,  1.        ,  1.        ],\n",
       "       [ 0.92895371,  1.        ,  1.        ,  1.        ],\n",
       "       [-0.96200329, -1.        ,  1.        ,  1.        ],\n",
       "       [ 0.95327908,  1.        ,  1.        ,  1.        ],\n",
       "       [ 0.91558439,  1.        ,  1.        ,  1.        ],\n",
       "       [-0.87872219, -1.        ,  1.        ,  1.        ],\n",
       "       [ 0.87129498,  1.        ,  1.        ,  1.        ],\n",
       "       [ 0.96638829,  1.        ,  1.        ,  1.        ],\n",
       "       [-0.90754408, -1.        ,  1.        ,  1.        ],\n",
       "       [-0.91781372, -1.        ,  1.        ,  1.        ],\n",
       "       [-0.91423732, -1.        ,  1.        ,  1.        ],\n",
       "       [-0.90906894, -1.        ,  1.        ,  1.        ],\n",
       "       [-0.6587702 , -1.        ,  1.        ,  1.        ],\n",
       "       [-0.97130615, -1.        ,  1.        ,  1.        ]])"
      ]
     },
     "execution_count": 47,
     "metadata": {},
     "output_type": "execute_result"
    }
   ],
   "source": [
    "z = np.hstack((model.predict(x_train), y_train))\n",
    "res1 = [[1 if abs(x[0]-x[1]) < 1.0 else 0] for x in z]\n",
    "res05 = [[1 if abs(x[0]-x[1]) < 0.5 else 0] for x in z]\n",
    "z = np.hstack((z, res1, res05))\n",
    "z"
   ]
  }
 ],
 "metadata": {
  "kernelspec": {
   "display_name": "Python 3",
   "language": "python",
   "name": "python3"
  },
  "language_info": {
   "codemirror_mode": {
    "name": "ipython",
    "version": 3
   },
   "file_extension": ".py",
   "mimetype": "text/x-python",
   "name": "python",
   "nbconvert_exporter": "python",
   "pygments_lexer": "ipython3",
   "version": "3.8.8"
  }
 },
 "nbformat": 4,
 "nbformat_minor": 5
}
